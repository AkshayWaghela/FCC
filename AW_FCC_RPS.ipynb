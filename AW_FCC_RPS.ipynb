{
  "nbformat": 4,
  "nbformat_minor": 0,
  "metadata": {
    "colab": {
      "provenance": [],
      "authorship_tag": "ABX9TyOo8lNI6o6Fmo0PQD6BuxpY",
      "include_colab_link": true
    },
    "kernelspec": {
      "name": "python3",
      "display_name": "Python 3"
    },
    "language_info": {
      "name": "python"
    }
  },
  "cells": [
    {
      "cell_type": "markdown",
      "metadata": {
        "id": "view-in-github",
        "colab_type": "text"
      },
      "source": [
        "<a href=\"https://colab.research.google.com/github/AkshayWaghela/FCC/blob/notebooks/AW_FCC_RPS.ipynb\" target=\"_parent\"><img src=\"https://colab.research.google.com/assets/colab-badge.svg\" alt=\"Open In Colab\"/></a>"
      ]
    },
    {
      "cell_type": "code",
      "execution_count": null,
      "metadata": {
        "id": "ffR1GGBfUzK3"
      },
      "outputs": [],
      "source": []
    },
    {
      "cell_type": "markdown",
      "source": [
        "#Rock-Paper-Scissors AI Strategy Explorer\n",
        "\n",
        "Welcome! In this notebook, I explore and evaluate various strategies for the classic game of Rock-Paper-Scissors (RPS), with the goal of building a high-performing AI opponent.\n",
        "\n",
        "This project was developed as part of the **freeCodeCamp Machine Learning with Python Certification** and focuses on applying predictive modeling, Markov Chains, and simulation-based evaluation in a game-theoretic setting.\n",
        "\n",
        "### 🎯 Objectives:\n",
        "- Implement multiple RPS bots using unique strategic behaviors.\n",
        "- Design and test a **custom AI player** using a 6-length **Markov Chain** for prediction.\n",
        "- Measure and compare performance across bots with win rates and confidence intervals.\n",
        "- Visualize trends, move frequencies, and win/loss streaks.\n",
        "- Create an interactive dashboard for deeper exploration.\n",
        "\n",
        "Let’s dive in and outsmart the competition!\n"
      ],
      "metadata": {
        "id": "FUxuaB6UVWKv"
      }
    },
    {
      "cell_type": "code",
      "source": [
        "import random\n",
        "import matplotlib.pyplot as plt\n",
        "import seaborn as sns\n",
        "from IPython.display import display, Markdown\n"
      ],
      "metadata": {
        "id": "fWrlJow2VW46"
      },
      "execution_count": null,
      "outputs": []
    },
    {
      "cell_type": "code",
      "source": [],
      "metadata": {
        "id": "a_OkVDnuVZLI"
      },
      "execution_count": null,
      "outputs": []
    },
    {
      "cell_type": "code",
      "source": [
        "def quincy(prev_play, counter=[0]):\n",
        "    counter[0] += 1\n",
        "    return [\"R\", \"R\", \"P\", \"P\", \"S\"][counter[0] % 5]\n",
        "\n",
        "def mrugesh(prev_opponent_play, opponent_history=[]):\n",
        "    if prev_opponent_play in ['R', 'P', 'S']:\n",
        "        opponent_history.append(prev_opponent_play)\n",
        "\n",
        "    last_ten = opponent_history[-10:]\n",
        "    most_frequent = max(set(last_ten), key=last_ten.count) if last_ten else \"S\"\n",
        "\n",
        "    return {'R': 'P', 'P': 'S', 'S': 'R'}[most_frequent]\n",
        "\n",
        "def kris(prev_opponent_play):\n",
        "    return {'R': 'P', 'P': 'S', 'S': 'R'}.get(prev_opponent_play, \"P\")\n",
        "\n",
        "def abbey(prev_opponent_play, opponent_history=[], play_order=[{\n",
        "    \"RR\": 0, \"RP\": 0, \"RS\": 0,\n",
        "    \"PR\": 0, \"PP\": 0, \"PS\": 0,\n",
        "    \"SR\": 0, \"SP\": 0, \"SS\": 0,\n",
        "}]):\n",
        "    if not prev_opponent_play:\n",
        "        prev_opponent_play = 'R'\n",
        "    opponent_history.append(prev_opponent_play)\n",
        "    last_two = \"\".join(opponent_history[-2:])\n",
        "    if len(last_two) == 2:\n",
        "        play_order[0][last_two] += 1\n",
        "    potential = [prev_opponent_play + x for x in \"RPS\"]\n",
        "    sub_order = {k: play_order[0][k] for k in potential}\n",
        "    prediction = max(sub_order, key=sub_order.get)[-1:]\n",
        "    return {'R': 'P', 'P': 'S', 'S': 'R'}[prediction]\n",
        "\n",
        "def random_player(prev_opponent_play):\n",
        "    return random.choice(['R', 'P', 'S'])\n"
      ],
      "metadata": {
        "id": "M12WQxmwVcpB"
      },
      "execution_count": null,
      "outputs": []
    },
    {
      "cell_type": "code",
      "source": [
        "def player(prev_play, opponent_history=[], play_order={}):\n",
        "    if prev_play:\n",
        "        opponent_history.append(prev_play)\n",
        "\n",
        "    chain_length = 6\n",
        "\n",
        "    if len(opponent_history) < chain_length:\n",
        "        return \"R\"\n",
        "\n",
        "    sequence = \"\".join(opponent_history[-chain_length:])\n",
        "    prior = \"\".join(opponent_history[-(chain_length+1):-1])\n",
        "\n",
        "    if len(prior) == chain_length:\n",
        "        if prior not in play_order:\n",
        "            play_order[prior] = {\"R\": 0, \"P\": 0, \"S\": 0}\n",
        "        play_order[prior][opponent_history[-1]] += 1\n",
        "\n",
        "    predicted = \"R\"\n",
        "    if sequence in play_order:\n",
        "        predicted = max(play_order[sequence], key=play_order[sequence].get)\n",
        "\n",
        "    return {\"R\": \"P\", \"P\": \"S\", \"S\": \"R\"}[predicted]\n"
      ],
      "metadata": {
        "id": "z2u_3fTSVhuc"
      },
      "execution_count": null,
      "outputs": []
    },
    {
      "cell_type": "code",
      "source": [
        "def play_game(player1, player2, rounds=1000, verbose=False):\n",
        "    p1_hist, p2_hist = \"\", \"\"\n",
        "    result = {\"p1\": 0, \"p2\": 0, \"tie\": 0}\n",
        "\n",
        "    for _ in range(rounds):\n",
        "        p1 = player1(p2_hist)\n",
        "        p2 = player2(p1_hist)\n",
        "\n",
        "        if p1 == p2:\n",
        "            result[\"tie\"] += 1\n",
        "        elif (p1 == \"P\" and p2 == \"R\") or (p1 == \"R\" and p2 == \"S\") or (p1 == \"S\" and p2 == \"P\"):\n",
        "            result[\"p1\"] += 1\n",
        "        else:\n",
        "            result[\"p2\"] += 1\n",
        "\n",
        "        p1_hist, p2_hist = p1, p2\n",
        "\n",
        "    win_rate = 100 * result[\"p1\"] / (result[\"p1\"] + result[\"p2\"]) if (result[\"p1\"] + result[\"p2\"]) else 0\n",
        "\n",
        "    if verbose:\n",
        "        display(Markdown(f\"### Results:\\n{result}\"))\n",
        "        print(f\"Win Rate: {win_rate:.2f}%\")\n",
        "\n",
        "    return win_rate, result\n"
      ],
      "metadata": {
        "id": "x-B_5Uq4VkyR"
      },
      "execution_count": null,
      "outputs": []
    },
    {
      "cell_type": "code",
      "source": [
        "bots = {\n",
        "    \"Quincy\": quincy,\n",
        "    \"Mrugesh\": mrugesh,\n",
        "    \"Kris\": kris,\n",
        "    \"Abbey\": abbey,\n",
        "    \"Random\": random_player\n",
        "}\n",
        "\n",
        "results = {}\n",
        "for name, bot in bots.items():\n",
        "    win_rate, result = play_game(player, bot, 1000)\n",
        "    results[name] = win_rate\n",
        "    print(f\"MyBot vs {name}: {win_rate:.2f}%\")\n",
        "\n",
        "# 📈 Plot\n",
        "sns.set(style=\"whitegrid\")\n",
        "plt.figure(figsize=(10, 6))\n",
        "sns.barplot(x=list(results.keys()), y=list(results.values()), palette=\"Blues_d\")\n",
        "plt.axhline(60, color=\"red\", linestyle=\"--\", label=\"Target (60%)\")\n",
        "plt.title(\"My Bot's Win Rates vs Other Bots\")\n",
        "plt.ylabel(\"Win Rate (%)\")\n",
        "plt.xlabel(\"Opponent Bot\")\n",
        "plt.ylim(0, 100)\n",
        "plt.legend()\n",
        "plt.show()\n"
      ],
      "metadata": {
        "id": "ARnrpx7aVnV9"
      },
      "execution_count": null,
      "outputs": []
    },
    {
      "cell_type": "markdown",
      "source": [
        "## ✅ Summary & Reflection\n",
        "\n",
        "This project helped me implement predictive modeling in a simple game setting.\n",
        "The use of a 6-length Markov Chain allowed my bot to outperform pattern-based bots consistently.\n",
        "\n",
        "📌 **Key Learnings:**\n",
        "- Markov Chains for sequence prediction\n",
        "- Evaluating strategies with simulation\n",
        "- Using matplotlib & seaborn for visualization\n",
        "\n",
        "---\n",
        "🎓 Built for the **freeCodeCamp Machine Learning with Python Certification**\n"
      ],
      "metadata": {
        "id": "uyAZh5t0W7oD"
      }
    },
    {
      "cell_type": "code",
      "source": [
        "import numpy as np\n",
        "import pandas as pd\n",
        "import matplotlib.pyplot as plt\n",
        "import seaborn as sns\n",
        "from scipy import stats\n",
        "import ipywidgets as widgets\n",
        "from IPython.display import display, Markdown\n"
      ],
      "metadata": {
        "id": "P1tr8FS0Vp_M"
      },
      "execution_count": null,
      "outputs": []
    },
    {
      "cell_type": "code",
      "source": [
        "def play_game_detailed(player1, player2, rounds=1000):\n",
        "    p1_hist, p2_hist = \"\", \"\"\n",
        "    results = {\"p1\": 0, \"p2\": 0, \"tie\": 0}\n",
        "    history = []\n",
        "\n",
        "    for i in range(rounds):\n",
        "        p1 = player1(p2_hist)\n",
        "        p2 = player2(p1_hist)\n",
        "        winner = 0  # tie\n",
        "\n",
        "        if p1 == p2:\n",
        "            results[\"tie\"] += 1\n",
        "            winner = 0\n",
        "        elif (p1 == \"P\" and p2 == \"R\") or (p1 == \"R\" and p2 == \"S\") or (p1 == \"S\" and p2 == \"P\"):\n",
        "            results[\"p1\"] += 1\n",
        "            winner = 1\n",
        "        else:\n",
        "            results[\"p2\"] += 1\n",
        "            winner = 2\n",
        "\n",
        "        p1_hist, p2_hist = p1, p2\n",
        "        history.append({'round': i+1, 'p1_move': p1, 'p2_move': p2, 'winner': winner})\n",
        "\n",
        "    win_rate = 100 * results[\"p1\"] / (results[\"p1\"] + results[\"p2\"]) if (results[\"p1\"] + results[\"p2\"]) else 0\n",
        "    df = pd.DataFrame(history)\n",
        "    return win_rate, results, df\n"
      ],
      "metadata": {
        "id": "KRpCR3UmXC1R"
      },
      "execution_count": null,
      "outputs": []
    },
    {
      "cell_type": "code",
      "source": [
        "def simulate_many(player1, player2, rounds=1000, sims=30):\n",
        "    win_rates = []\n",
        "    for _ in range(sims):\n",
        "        wr, _, _ = play_game_detailed(player1, player2, rounds)\n",
        "        win_rates.append(wr)\n",
        "    win_rates = np.array(win_rates)\n",
        "\n",
        "    mean_wr = win_rates.mean()\n",
        "    ci = stats.t.interval(0.95, len(win_rates)-1, loc=mean_wr, scale=stats.sem(win_rates))\n",
        "    return mean_wr, ci, win_rates\n",
        "\n",
        "mean_wr, ci, win_rates = simulate_many(player, quincy)\n",
        "\n",
        "print(f\"Mean Win Rate: {mean_wr:.2f}%\")\n",
        "print(f\"95% Confidence Interval: [{ci[0]:.2f}%, {ci[1]:.2f}%]\")\n",
        "\n",
        "# Plot histogram\n",
        "sns.histplot(win_rates, kde=True, color=\"skyblue\")\n",
        "plt.axvline(mean_wr, color='red', linestyle='--')\n",
        "plt.title(\"Distribution of Win Rates Across 30 Simulations (vs Quincy)\")\n",
        "plt.xlabel(\"Win Rate (%)\")\n",
        "plt.ylabel(\"Frequency\")\n",
        "plt.show()\n"
      ],
      "metadata": {
        "id": "jDga3f4YXFXd"
      },
      "execution_count": null,
      "outputs": []
    },
    {
      "cell_type": "code",
      "source": [
        "def plot_move_frequencies(df, player_col='p2_move', title='Move Frequencies'):\n",
        "    freq = df[player_col].value_counts(normalize=True).sort_index()\n",
        "    freq_df = pd.DataFrame({'Move': freq.index, 'Frequency': freq.values})\n",
        "    sns.barplot(x='Move', y='Frequency', data=freq_df, palette=\"muted\")\n",
        "    plt.title(title)\n",
        "    plt.ylim(0, 1)\n",
        "    plt.show()\n",
        "\n",
        "_, _, df = play_game_detailed(player, abbey)\n",
        "plot_move_frequencies(df, player_col='p2_move', title=\"Abbey's Move Frequency Distribution\")\n"
      ],
      "metadata": {
        "id": "H4GguahVXJLS"
      },
      "execution_count": null,
      "outputs": []
    },
    {
      "cell_type": "code",
      "source": [
        "def plot_streaks(df):\n",
        "    df['win'] = df['winner'] == 1\n",
        "    df['streak'] = (df['win'] != df['win'].shift()).cumsum()\n",
        "    streak_lengths = df.groupby(['streak', 'win']).size().reset_index(name='length')\n",
        "\n",
        "    plt.figure(figsize=(10,6))\n",
        "    sns.histplot(streak_lengths[streak_lengths['win']==True]['length'], bins=15, color='green', label='Win Streaks')\n",
        "    sns.histplot(streak_lengths[streak_lengths['win']==False]['length'], bins=15, color='red', label='Loss Streaks', alpha=0.7)\n",
        "    plt.title(\"Distribution of Win/Loss Streak Lengths\")\n",
        "    plt.xlabel(\"Streak Length\")\n",
        "    plt.legend()\n",
        "    plt.show()\n",
        "\n",
        "plot_streaks(df)\n"
      ],
      "metadata": {
        "id": "55kkFvFkXNsG"
      },
      "execution_count": null,
      "outputs": []
    },
    {
      "cell_type": "code",
      "source": [
        "import ipywidgets as widgets\n",
        "from IPython.display import display, Markdown\n",
        "import seaborn as sns\n",
        "import matplotlib.pyplot as plt\n",
        "\n",
        "# --- Assuming bot_dict and interactive_match are already defined ---\n",
        "\n",
        "# Dropdowns and sliders\n",
        "bot1_selector = widgets.Dropdown(options=bot_dict.keys(), value='My Bot', description='Bot 1:')\n",
        "bot2_selector = widgets.Dropdown(options=bot_dict.keys(), value='Quincy', description='Bot 2:')\n",
        "rounds_slider = widgets.IntSlider(value=1000, min=100, max=5000, step=100, description='Rounds:')\n",
        "sims_slider = widgets.IntSlider(value=20, min=5, max=50, step=5, description='Simulations:')\n",
        "\n",
        "# Output area\n",
        "output = widgets.Output()\n",
        "\n",
        "# Button to run simulation\n",
        "run_button = widgets.Button(description=\"Run Simulation\", button_style='success')\n",
        "\n",
        "# Button callback\n",
        "def on_run_button_clicked(b):\n",
        "    with output:\n",
        "        output.clear_output()\n",
        "        interactive_match(\n",
        "            bot1_name=bot1_selector.value,\n",
        "            bot2_name=bot2_selector.value,\n",
        "            rounds=rounds_slider.value,\n",
        "            sims=sims_slider.value\n",
        "        )\n",
        "\n",
        "run_button.on_click(on_run_button_clicked)\n",
        "\n",
        "# Layout\n",
        "ui = widgets.VBox([\n",
        "    bot1_selector,\n",
        "    bot2_selector,\n",
        "    rounds_slider,\n",
        "    sims_slider,\n",
        "    run_button,\n",
        "    output\n",
        "])\n",
        "\n",
        "display(ui)\n"
      ],
      "metadata": {
        "id": "5UzKfspkXoje"
      },
      "execution_count": null,
      "outputs": []
    },
    {
      "cell_type": "code",
      "source": [],
      "metadata": {
        "id": "G74wr5lqXsKM"
      },
      "execution_count": null,
      "outputs": []
    },
    {
      "cell_type": "markdown",
      "source": [
        "# ✅ Summary & Final Thoughts\n",
        "\n",
        "This project served as a fun and insightful application of predictive modeling in a simple yet non-trivial problem space. By designing a 6-length Markov Chain bot, I was able to analyze and exploit patterns in opponent behavior to achieve strong win rates against several predefined strategies.\n",
        "\n",
        "### 🔍 Key Takeaways:\n",
        "- **Markov Chains** are powerful tools for sequence prediction in games and beyond.\n",
        "- Simulation and visualization can uncover deeper behavioral patterns and inform better strategies.\n",
        "- Evaluation using confidence intervals and repeated trials is crucial for robust analysis.\n",
        "- A modular and interactive approach makes it easy to expand, test, and improve bots.\n",
        "\n",
        "🎮 This exercise not only reinforced core machine learning concepts, but also highlighted the value of adaptability, memory, and statistical reasoning in AI design.\n",
        "\n",
        "---\n",
        "\n",
        "🚀 **Next Steps:**\n",
        "- Experiment with reinforcement learning-based bots.\n",
        "- Build a dynamic strategy switcher that adapts in real time.\n",
        "- Deploy a web version of the RPS simulator for public play.\n",
        "\n",
        "Thanks for exploring with me!\n"
      ],
      "metadata": {
        "id": "_nyAkEQJUJ0a"
      }
    }
  ]
}