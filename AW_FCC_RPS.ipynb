{
  "nbformat": 4,
  "nbformat_minor": 0,
  "metadata": {
    "colab": {
      "provenance": [],
      "authorship_tag": "ABX9TyOo8lNI6o6Fmo0PQD6BuxpY",
      "include_colab_link": true
    },
    "kernelspec": {
      "name": "python3",
      "display_name": "Python 3"
    },
    "language_info": {
      "name": "python"
    },
    "widgets": {
      "application/vnd.jupyter.widget-state+json": {
        "489b2d9f29f947828db2cf86e7589fc0": {
          "model_module": "@jupyter-widgets/controls",
          "model_name": "VBoxModel",
          "model_module_version": "1.5.0",
          "state": {
            "_dom_classes": [],
            "_model_module": "@jupyter-widgets/controls",
            "_model_module_version": "1.5.0",
            "_model_name": "VBoxModel",
            "_view_count": null,
            "_view_module": "@jupyter-widgets/controls",
            "_view_module_version": "1.5.0",
            "_view_name": "VBoxView",
            "box_style": "",
            "children": [
              "IPY_MODEL_3c089e03c089414a9118ef3cb428a719",
              "IPY_MODEL_25ccf44cbf504be89aef61285ddd9388",
              "IPY_MODEL_0dc1acbc9cf34de9893ab2c85b01e010",
              "IPY_MODEL_de60008e1d154d8f9691a10d159da759",
              "IPY_MODEL_711a20ee20794b50bd724d6ab029cd5f",
              "IPY_MODEL_1b16b1cfd9144148b3ae961d2fec774b"
            ],
            "layout": "IPY_MODEL_9ce1dbb0e2e7449687fdda34867c7627"
          }
        },
        "3c089e03c089414a9118ef3cb428a719": {
          "model_module": "@jupyter-widgets/controls",
          "model_name": "DropdownModel",
          "model_module_version": "1.5.0",
          "state": {
            "_dom_classes": [],
            "_model_module": "@jupyter-widgets/controls",
            "_model_module_version": "1.5.0",
            "_model_name": "DropdownModel",
            "_options_labels": [
              "Quincy",
              "Mrugesh",
              "Kris",
              "Abbey",
              "Random",
              "My Bot"
            ],
            "_view_count": null,
            "_view_module": "@jupyter-widgets/controls",
            "_view_module_version": "1.5.0",
            "_view_name": "DropdownView",
            "description": "Bot 1:",
            "description_tooltip": null,
            "disabled": false,
            "index": 1,
            "layout": "IPY_MODEL_e7d9431e2f1a4a99b2f4798c549ceaca",
            "style": "IPY_MODEL_fe0ffe441f0348868237d531c24a5f57"
          }
        },
        "25ccf44cbf504be89aef61285ddd9388": {
          "model_module": "@jupyter-widgets/controls",
          "model_name": "DropdownModel",
          "model_module_version": "1.5.0",
          "state": {
            "_dom_classes": [],
            "_model_module": "@jupyter-widgets/controls",
            "_model_module_version": "1.5.0",
            "_model_name": "DropdownModel",
            "_options_labels": [
              "Quincy",
              "Mrugesh",
              "Kris",
              "Abbey",
              "Random",
              "My Bot"
            ],
            "_view_count": null,
            "_view_module": "@jupyter-widgets/controls",
            "_view_module_version": "1.5.0",
            "_view_name": "DropdownView",
            "description": "Bot 2:",
            "description_tooltip": null,
            "disabled": false,
            "index": 3,
            "layout": "IPY_MODEL_3f778c251d824ab4a4bc7280864446a8",
            "style": "IPY_MODEL_86f56c0ddfed4dda9b8dffcc6fa6224d"
          }
        },
        "0dc1acbc9cf34de9893ab2c85b01e010": {
          "model_module": "@jupyter-widgets/controls",
          "model_name": "IntSliderModel",
          "model_module_version": "1.5.0",
          "state": {
            "_dom_classes": [],
            "_model_module": "@jupyter-widgets/controls",
            "_model_module_version": "1.5.0",
            "_model_name": "IntSliderModel",
            "_view_count": null,
            "_view_module": "@jupyter-widgets/controls",
            "_view_module_version": "1.5.0",
            "_view_name": "IntSliderView",
            "continuous_update": true,
            "description": "Rounds:",
            "description_tooltip": null,
            "disabled": false,
            "layout": "IPY_MODEL_98a8e656aecf447ca5bf76423719906e",
            "max": 5000,
            "min": 100,
            "orientation": "horizontal",
            "readout": true,
            "readout_format": "d",
            "step": 100,
            "style": "IPY_MODEL_4f74dc5bf95d469ca0770d1833ff2309",
            "value": 1000
          }
        },
        "de60008e1d154d8f9691a10d159da759": {
          "model_module": "@jupyter-widgets/controls",
          "model_name": "IntSliderModel",
          "model_module_version": "1.5.0",
          "state": {
            "_dom_classes": [],
            "_model_module": "@jupyter-widgets/controls",
            "_model_module_version": "1.5.0",
            "_model_name": "IntSliderModel",
            "_view_count": null,
            "_view_module": "@jupyter-widgets/controls",
            "_view_module_version": "1.5.0",
            "_view_name": "IntSliderView",
            "continuous_update": true,
            "description": "Simulations:",
            "description_tooltip": null,
            "disabled": false,
            "layout": "IPY_MODEL_7bb962abeeb04b808cbe37fa2acc53b0",
            "max": 50,
            "min": 5,
            "orientation": "horizontal",
            "readout": true,
            "readout_format": "d",
            "step": 5,
            "style": "IPY_MODEL_87714c01c06a4a36b907c68f816bf4bc",
            "value": 25
          }
        },
        "711a20ee20794b50bd724d6ab029cd5f": {
          "model_module": "@jupyter-widgets/controls",
          "model_name": "ButtonModel",
          "model_module_version": "1.5.0",
          "state": {
            "_dom_classes": [],
            "_model_module": "@jupyter-widgets/controls",
            "_model_module_version": "1.5.0",
            "_model_name": "ButtonModel",
            "_view_count": null,
            "_view_module": "@jupyter-widgets/controls",
            "_view_module_version": "1.5.0",
            "_view_name": "ButtonView",
            "button_style": "success",
            "description": "Run Simulation",
            "disabled": false,
            "icon": "",
            "layout": "IPY_MODEL_1c19ba771728411f8b86d15fccf96dae",
            "style": "IPY_MODEL_77547ee3e0584f6fb16a7fcd7b32555c",
            "tooltip": ""
          }
        },
        "1b16b1cfd9144148b3ae961d2fec774b": {
          "model_module": "@jupyter-widgets/output",
          "model_name": "OutputModel",
          "model_module_version": "1.0.0",
          "state": {
            "_dom_classes": [],
            "_model_module": "@jupyter-widgets/output",
            "_model_module_version": "1.0.0",
            "_model_name": "OutputModel",
            "_view_count": null,
            "_view_module": "@jupyter-widgets/output",
            "_view_module_version": "1.0.0",
            "_view_name": "OutputView",
            "layout": "IPY_MODEL_d4860cc1c25043f2b151da1d8549b67b",
            "msg_id": "",
            "outputs": [
              {
                "output_type": "display_data",
                "data": {
                  "text/plain": "<IPython.core.display.Markdown object>",
                  "text/markdown": "### Results: Mrugesh vs Abbey"
                },
                "metadata": {}
              },
              {
                "output_type": "display_data",
                "data": {
                  "text/plain": "<IPython.core.display.Markdown object>",
                  "text/markdown": "Mean Win Rate: **15.82%**"
                },
                "metadata": {}
              },
              {
                "output_type": "display_data",
                "data": {
                  "text/plain": "<IPython.core.display.Markdown object>",
                  "text/markdown": "95% CI: [15.79%, 15.85%]"
                },
                "metadata": {}
              },
              {
                "output_type": "display_data",
                "data": {
                  "text/plain": "<Figure size 640x480 with 1 Axes>",
                  "image/png": "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\n"
                },
                "metadata": {}
              }
            ]
          }
        },
        "9ce1dbb0e2e7449687fdda34867c7627": {
          "model_module": "@jupyter-widgets/base",
          "model_name": "LayoutModel",
          "model_module_version": "1.2.0",
          "state": {
            "_model_module": "@jupyter-widgets/base",
            "_model_module_version": "1.2.0",
            "_model_name": "LayoutModel",
            "_view_count": null,
            "_view_module": "@jupyter-widgets/base",
            "_view_module_version": "1.2.0",
            "_view_name": "LayoutView",
            "align_content": null,
            "align_items": null,
            "align_self": null,
            "border": null,
            "bottom": null,
            "display": null,
            "flex": null,
            "flex_flow": null,
            "grid_area": null,
            "grid_auto_columns": null,
            "grid_auto_flow": null,
            "grid_auto_rows": null,
            "grid_column": null,
            "grid_gap": null,
            "grid_row": null,
            "grid_template_areas": null,
            "grid_template_columns": null,
            "grid_template_rows": null,
            "height": null,
            "justify_content": null,
            "justify_items": null,
            "left": null,
            "margin": null,
            "max_height": null,
            "max_width": null,
            "min_height": null,
            "min_width": null,
            "object_fit": null,
            "object_position": null,
            "order": null,
            "overflow": null,
            "overflow_x": null,
            "overflow_y": null,
            "padding": null,
            "right": null,
            "top": null,
            "visibility": null,
            "width": null
          }
        },
        "e7d9431e2f1a4a99b2f4798c549ceaca": {
          "model_module": "@jupyter-widgets/base",
          "model_name": "LayoutModel",
          "model_module_version": "1.2.0",
          "state": {
            "_model_module": "@jupyter-widgets/base",
            "_model_module_version": "1.2.0",
            "_model_name": "LayoutModel",
            "_view_count": null,
            "_view_module": "@jupyter-widgets/base",
            "_view_module_version": "1.2.0",
            "_view_name": "LayoutView",
            "align_content": null,
            "align_items": null,
            "align_self": null,
            "border": null,
            "bottom": null,
            "display": null,
            "flex": null,
            "flex_flow": null,
            "grid_area": null,
            "grid_auto_columns": null,
            "grid_auto_flow": null,
            "grid_auto_rows": null,
            "grid_column": null,
            "grid_gap": null,
            "grid_row": null,
            "grid_template_areas": null,
            "grid_template_columns": null,
            "grid_template_rows": null,
            "height": null,
            "justify_content": null,
            "justify_items": null,
            "left": null,
            "margin": null,
            "max_height": null,
            "max_width": null,
            "min_height": null,
            "min_width": null,
            "object_fit": null,
            "object_position": null,
            "order": null,
            "overflow": null,
            "overflow_x": null,
            "overflow_y": null,
            "padding": null,
            "right": null,
            "top": null,
            "visibility": null,
            "width": null
          }
        },
        "fe0ffe441f0348868237d531c24a5f57": {
          "model_module": "@jupyter-widgets/controls",
          "model_name": "DescriptionStyleModel",
          "model_module_version": "1.5.0",
          "state": {
            "_model_module": "@jupyter-widgets/controls",
            "_model_module_version": "1.5.0",
            "_model_name": "DescriptionStyleModel",
            "_view_count": null,
            "_view_module": "@jupyter-widgets/base",
            "_view_module_version": "1.2.0",
            "_view_name": "StyleView",
            "description_width": ""
          }
        },
        "3f778c251d824ab4a4bc7280864446a8": {
          "model_module": "@jupyter-widgets/base",
          "model_name": "LayoutModel",
          "model_module_version": "1.2.0",
          "state": {
            "_model_module": "@jupyter-widgets/base",
            "_model_module_version": "1.2.0",
            "_model_name": "LayoutModel",
            "_view_count": null,
            "_view_module": "@jupyter-widgets/base",
            "_view_module_version": "1.2.0",
            "_view_name": "LayoutView",
            "align_content": null,
            "align_items": null,
            "align_self": null,
            "border": null,
            "bottom": null,
            "display": null,
            "flex": null,
            "flex_flow": null,
            "grid_area": null,
            "grid_auto_columns": null,
            "grid_auto_flow": null,
            "grid_auto_rows": null,
            "grid_column": null,
            "grid_gap": null,
            "grid_row": null,
            "grid_template_areas": null,
            "grid_template_columns": null,
            "grid_template_rows": null,
            "height": null,
            "justify_content": null,
            "justify_items": null,
            "left": null,
            "margin": null,
            "max_height": null,
            "max_width": null,
            "min_height": null,
            "min_width": null,
            "object_fit": null,
            "object_position": null,
            "order": null,
            "overflow": null,
            "overflow_x": null,
            "overflow_y": null,
            "padding": null,
            "right": null,
            "top": null,
            "visibility": null,
            "width": null
          }
        },
        "86f56c0ddfed4dda9b8dffcc6fa6224d": {
          "model_module": "@jupyter-widgets/controls",
          "model_name": "DescriptionStyleModel",
          "model_module_version": "1.5.0",
          "state": {
            "_model_module": "@jupyter-widgets/controls",
            "_model_module_version": "1.5.0",
            "_model_name": "DescriptionStyleModel",
            "_view_count": null,
            "_view_module": "@jupyter-widgets/base",
            "_view_module_version": "1.2.0",
            "_view_name": "StyleView",
            "description_width": ""
          }
        },
        "98a8e656aecf447ca5bf76423719906e": {
          "model_module": "@jupyter-widgets/base",
          "model_name": "LayoutModel",
          "model_module_version": "1.2.0",
          "state": {
            "_model_module": "@jupyter-widgets/base",
            "_model_module_version": "1.2.0",
            "_model_name": "LayoutModel",
            "_view_count": null,
            "_view_module": "@jupyter-widgets/base",
            "_view_module_version": "1.2.0",
            "_view_name": "LayoutView",
            "align_content": null,
            "align_items": null,
            "align_self": null,
            "border": null,
            "bottom": null,
            "display": null,
            "flex": null,
            "flex_flow": null,
            "grid_area": null,
            "grid_auto_columns": null,
            "grid_auto_flow": null,
            "grid_auto_rows": null,
            "grid_column": null,
            "grid_gap": null,
            "grid_row": null,
            "grid_template_areas": null,
            "grid_template_columns": null,
            "grid_template_rows": null,
            "height": null,
            "justify_content": null,
            "justify_items": null,
            "left": null,
            "margin": null,
            "max_height": null,
            "max_width": null,
            "min_height": null,
            "min_width": null,
            "object_fit": null,
            "object_position": null,
            "order": null,
            "overflow": null,
            "overflow_x": null,
            "overflow_y": null,
            "padding": null,
            "right": null,
            "top": null,
            "visibility": null,
            "width": null
          }
        },
        "4f74dc5bf95d469ca0770d1833ff2309": {
          "model_module": "@jupyter-widgets/controls",
          "model_name": "SliderStyleModel",
          "model_module_version": "1.5.0",
          "state": {
            "_model_module": "@jupyter-widgets/controls",
            "_model_module_version": "1.5.0",
            "_model_name": "SliderStyleModel",
            "_view_count": null,
            "_view_module": "@jupyter-widgets/base",
            "_view_module_version": "1.2.0",
            "_view_name": "StyleView",
            "description_width": "",
            "handle_color": null
          }
        },
        "7bb962abeeb04b808cbe37fa2acc53b0": {
          "model_module": "@jupyter-widgets/base",
          "model_name": "LayoutModel",
          "model_module_version": "1.2.0",
          "state": {
            "_model_module": "@jupyter-widgets/base",
            "_model_module_version": "1.2.0",
            "_model_name": "LayoutModel",
            "_view_count": null,
            "_view_module": "@jupyter-widgets/base",
            "_view_module_version": "1.2.0",
            "_view_name": "LayoutView",
            "align_content": null,
            "align_items": null,
            "align_self": null,
            "border": null,
            "bottom": null,
            "display": null,
            "flex": null,
            "flex_flow": null,
            "grid_area": null,
            "grid_auto_columns": null,
            "grid_auto_flow": null,
            "grid_auto_rows": null,
            "grid_column": null,
            "grid_gap": null,
            "grid_row": null,
            "grid_template_areas": null,
            "grid_template_columns": null,
            "grid_template_rows": null,
            "height": null,
            "justify_content": null,
            "justify_items": null,
            "left": null,
            "margin": null,
            "max_height": null,
            "max_width": null,
            "min_height": null,
            "min_width": null,
            "object_fit": null,
            "object_position": null,
            "order": null,
            "overflow": null,
            "overflow_x": null,
            "overflow_y": null,
            "padding": null,
            "right": null,
            "top": null,
            "visibility": null,
            "width": null
          }
        },
        "87714c01c06a4a36b907c68f816bf4bc": {
          "model_module": "@jupyter-widgets/controls",
          "model_name": "SliderStyleModel",
          "model_module_version": "1.5.0",
          "state": {
            "_model_module": "@jupyter-widgets/controls",
            "_model_module_version": "1.5.0",
            "_model_name": "SliderStyleModel",
            "_view_count": null,
            "_view_module": "@jupyter-widgets/base",
            "_view_module_version": "1.2.0",
            "_view_name": "StyleView",
            "description_width": "",
            "handle_color": null
          }
        },
        "1c19ba771728411f8b86d15fccf96dae": {
          "model_module": "@jupyter-widgets/base",
          "model_name": "LayoutModel",
          "model_module_version": "1.2.0",
          "state": {
            "_model_module": "@jupyter-widgets/base",
            "_model_module_version": "1.2.0",
            "_model_name": "LayoutModel",
            "_view_count": null,
            "_view_module": "@jupyter-widgets/base",
            "_view_module_version": "1.2.0",
            "_view_name": "LayoutView",
            "align_content": null,
            "align_items": null,
            "align_self": null,
            "border": null,
            "bottom": null,
            "display": null,
            "flex": null,
            "flex_flow": null,
            "grid_area": null,
            "grid_auto_columns": null,
            "grid_auto_flow": null,
            "grid_auto_rows": null,
            "grid_column": null,
            "grid_gap": null,
            "grid_row": null,
            "grid_template_areas": null,
            "grid_template_columns": null,
            "grid_template_rows": null,
            "height": null,
            "justify_content": null,
            "justify_items": null,
            "left": null,
            "margin": null,
            "max_height": null,
            "max_width": null,
            "min_height": null,
            "min_width": null,
            "object_fit": null,
            "object_position": null,
            "order": null,
            "overflow": null,
            "overflow_x": null,
            "overflow_y": null,
            "padding": null,
            "right": null,
            "top": null,
            "visibility": null,
            "width": null
          }
        },
        "77547ee3e0584f6fb16a7fcd7b32555c": {
          "model_module": "@jupyter-widgets/controls",
          "model_name": "ButtonStyleModel",
          "model_module_version": "1.5.0",
          "state": {
            "_model_module": "@jupyter-widgets/controls",
            "_model_module_version": "1.5.0",
            "_model_name": "ButtonStyleModel",
            "_view_count": null,
            "_view_module": "@jupyter-widgets/base",
            "_view_module_version": "1.2.0",
            "_view_name": "StyleView",
            "button_color": null,
            "font_weight": ""
          }
        },
        "d4860cc1c25043f2b151da1d8549b67b": {
          "model_module": "@jupyter-widgets/base",
          "model_name": "LayoutModel",
          "model_module_version": "1.2.0",
          "state": {
            "_model_module": "@jupyter-widgets/base",
            "_model_module_version": "1.2.0",
            "_model_name": "LayoutModel",
            "_view_count": null,
            "_view_module": "@jupyter-widgets/base",
            "_view_module_version": "1.2.0",
            "_view_name": "LayoutView",
            "align_content": null,
            "align_items": null,
            "align_self": null,
            "border": null,
            "bottom": null,
            "display": null,
            "flex": null,
            "flex_flow": null,
            "grid_area": null,
            "grid_auto_columns": null,
            "grid_auto_flow": null,
            "grid_auto_rows": null,
            "grid_column": null,
            "grid_gap": null,
            "grid_row": null,
            "grid_template_areas": null,
            "grid_template_columns": null,
            "grid_template_rows": null,
            "height": null,
            "justify_content": null,
            "justify_items": null,
            "left": null,
            "margin": null,
            "max_height": null,
            "max_width": null,
            "min_height": null,
            "min_width": null,
            "object_fit": null,
            "object_position": null,
            "order": null,
            "overflow": null,
            "overflow_x": null,
            "overflow_y": null,
            "padding": null,
            "right": null,
            "top": null,
            "visibility": null,
            "width": null
          }
        }
      }
    }
  },
  "cells": [
    {
      "cell_type": "markdown",
      "metadata": {
        "id": "view-in-github",
        "colab_type": "text"
      },
      "source": [
        "<a href=\"https://colab.research.google.com/github/AkshayWaghela/FCC/blob/notebooks/AW_FCC_RPS.ipynb\" target=\"_parent\"><img src=\"https://colab.research.google.com/assets/colab-badge.svg\" alt=\"Open In Colab\"/></a>"
      ]
    },
    {
      "cell_type": "code",
      "execution_count": 12,
      "metadata": {
        "id": "ffR1GGBfUzK3"
      },
      "outputs": [],
      "source": []
    },
    {
      "cell_type": "markdown",
      "source": [
        "#Rock-Paper-Scissors AI Strategy Explorer\n",
        "\n",
        "Welcome! In this notebook, I explore and evaluate various strategies for the classic game of Rock-Paper-Scissors (RPS), with the goal of building a high-performing AI opponent.\n",
        "\n",
        "This project was developed as part of the **freeCodeCamp Machine Learning with Python Certification** and focuses on applying predictive modeling, Markov Chains, and simulation-based evaluation in a game-theoretic setting.\n",
        "\n",
        "### 🎯 Objectives:\n",
        "- Implement multiple RPS bots using unique strategic behaviors.\n",
        "- Design and test a **custom AI player** using a 6-length **Markov Chain** for prediction.\n",
        "- Measure and compare performance across bots with win rates and confidence intervals.\n",
        "- Visualize trends, move frequencies, and win/loss streaks.\n",
        "- Create an interactive dashboard for deeper exploration.\n",
        "\n",
        "Let’s dive in and outsmart the competition!\n"
      ],
      "metadata": {
        "id": "FUxuaB6UVWKv"
      }
    },
    {
      "cell_type": "code",
      "source": [
        "import random\n",
        "import matplotlib.pyplot as plt\n",
        "import seaborn as sns\n",
        "from IPython.display import display, Markdown\n"
      ],
      "metadata": {
        "id": "fWrlJow2VW46"
      },
      "execution_count": 13,
      "outputs": []
    },
    {
      "cell_type": "code",
      "source": [],
      "metadata": {
        "id": "a_OkVDnuVZLI"
      },
      "execution_count": 13,
      "outputs": []
    },
    {
      "cell_type": "code",
      "source": [
        "def quincy(prev_play, counter=[0]):\n",
        "    counter[0] += 1\n",
        "    return [\"R\", \"R\", \"P\", \"P\", \"S\"][counter[0] % 5]\n",
        "\n",
        "def mrugesh(prev_opponent_play, opponent_history=[]):\n",
        "    if prev_opponent_play in ['R', 'P', 'S']:\n",
        "        opponent_history.append(prev_opponent_play)\n",
        "\n",
        "    last_ten = opponent_history[-10:]\n",
        "    most_frequent = max(set(last_ten), key=last_ten.count) if last_ten else \"S\"\n",
        "\n",
        "    return {'R': 'P', 'P': 'S', 'S': 'R'}[most_frequent]\n",
        "\n",
        "def kris(prev_opponent_play):\n",
        "    return {'R': 'P', 'P': 'S', 'S': 'R'}.get(prev_opponent_play, \"P\")\n",
        "\n",
        "def abbey(prev_opponent_play, opponent_history=[], play_order=[{\n",
        "    \"RR\": 0, \"RP\": 0, \"RS\": 0,\n",
        "    \"PR\": 0, \"PP\": 0, \"PS\": 0,\n",
        "    \"SR\": 0, \"SP\": 0, \"SS\": 0,\n",
        "}]):\n",
        "    if not prev_opponent_play:\n",
        "        prev_opponent_play = 'R'\n",
        "    opponent_history.append(prev_opponent_play)\n",
        "    last_two = \"\".join(opponent_history[-2:])\n",
        "    if len(last_two) == 2:\n",
        "        play_order[0][last_two] += 1\n",
        "    potential = [prev_opponent_play + x for x in \"RPS\"]\n",
        "    sub_order = {k: play_order[0][k] for k in potential}\n",
        "    prediction = max(sub_order, key=sub_order.get)[-1:]\n",
        "    return {'R': 'P', 'P': 'S', 'S': 'R'}[prediction]\n",
        "\n",
        "def random_player(prev_opponent_play):\n",
        "    return random.choice(['R', 'P', 'S'])\n"
      ],
      "metadata": {
        "id": "M12WQxmwVcpB"
      },
      "execution_count": 14,
      "outputs": []
    },
    {
      "cell_type": "code",
      "source": [
        "def player(prev_play, opponent_history=[], play_order={}):\n",
        "    if prev_play:\n",
        "        opponent_history.append(prev_play)\n",
        "\n",
        "    chain_length = 6\n",
        "\n",
        "    if len(opponent_history) < chain_length:\n",
        "        return \"R\"\n",
        "\n",
        "    sequence = \"\".join(opponent_history[-chain_length:])\n",
        "    prior = \"\".join(opponent_history[-(chain_length+1):-1])\n",
        "\n",
        "    if len(prior) == chain_length:\n",
        "        if prior not in play_order:\n",
        "            play_order[prior] = {\"R\": 0, \"P\": 0, \"S\": 0}\n",
        "        play_order[prior][opponent_history[-1]] += 1\n",
        "\n",
        "    predicted = \"R\"\n",
        "    if sequence in play_order:\n",
        "        predicted = max(play_order[sequence], key=play_order[sequence].get)\n",
        "\n",
        "    return {\"R\": \"P\", \"P\": \"S\", \"S\": \"R\"}[predicted]\n"
      ],
      "metadata": {
        "id": "z2u_3fTSVhuc"
      },
      "execution_count": 15,
      "outputs": []
    },
    {
      "cell_type": "code",
      "source": [
        "def play_game(player1, player2, rounds=1000, verbose=False):\n",
        "    p1_hist, p2_hist = \"\", \"\"\n",
        "    result = {\"p1\": 0, \"p2\": 0, \"tie\": 0}\n",
        "\n",
        "    for _ in range(rounds):\n",
        "        p1 = player1(p2_hist)\n",
        "        p2 = player2(p1_hist)\n",
        "\n",
        "        if p1 == p2:\n",
        "            result[\"tie\"] += 1\n",
        "        elif (p1 == \"P\" and p2 == \"R\") or (p1 == \"R\" and p2 == \"S\") or (p1 == \"S\" and p2 == \"P\"):\n",
        "            result[\"p1\"] += 1\n",
        "        else:\n",
        "            result[\"p2\"] += 1\n",
        "\n",
        "        p1_hist, p2_hist = p1, p2\n",
        "\n",
        "    win_rate = 100 * result[\"p1\"] / (result[\"p1\"] + result[\"p2\"]) if (result[\"p1\"] + result[\"p2\"]) else 0\n",
        "\n",
        "    if verbose:\n",
        "        display(Markdown(f\"### Results:\\n{result}\"))\n",
        "        print(f\"Win Rate: {win_rate:.2f}%\")\n",
        "\n",
        "    return win_rate, result\n"
      ],
      "metadata": {
        "id": "x-B_5Uq4VkyR"
      },
      "execution_count": 16,
      "outputs": []
    },
    {
      "cell_type": "code",
      "source": [
        "bots = {\n",
        "    \"Quincy\": quincy,\n",
        "    \"Mrugesh\": mrugesh,\n",
        "    \"Kris\": kris,\n",
        "    \"Abbey\": abbey,\n",
        "    \"Random\": random_player\n",
        "}\n",
        "\n",
        "results = {}\n",
        "for name, bot in bots.items():\n",
        "    win_rate, result = play_game(player, bot, 1000)\n",
        "    results[name] = win_rate\n",
        "    print(f\"MyBot vs {name}: {win_rate:.2f}%\")\n",
        "\n",
        "# 📈 Plot\n",
        "sns.set(style=\"whitegrid\")\n",
        "plt.figure(figsize=(10, 6))\n",
        "sns.barplot(x=list(results.keys()), y=list(results.values()), palette=\"Blues_d\")\n",
        "plt.axhline(60, color=\"red\", linestyle=\"--\", label=\"Target (60%)\")\n",
        "plt.title(\"My Bot's Win Rates vs Other Bots\")\n",
        "plt.ylabel(\"Win Rate (%)\")\n",
        "plt.xlabel(\"Opponent Bot\")\n",
        "plt.ylim(0, 100)\n",
        "plt.legend()\n",
        "plt.show()\n"
      ],
      "metadata": {
        "colab": {
          "base_uri": "https://localhost:8080/",
          "height": 758
        },
        "id": "ARnrpx7aVnV9",
        "outputId": "8dd2eb5e-21b1-459c-a610-d5226c584e8c"
      },
      "execution_count": 17,
      "outputs": [
        {
          "output_type": "stream",
          "name": "stdout",
          "text": [
            "MyBot vs Quincy: 99.70%\n",
            "MyBot vs Mrugesh: 90.72%\n",
            "MyBot vs Kris: 80.15%\n",
            "MyBot vs Abbey: 54.99%\n",
            "MyBot vs Random: 50.66%\n"
          ]
        },
        {
          "output_type": "stream",
          "name": "stderr",
          "text": [
            "<ipython-input-17-cd2862192737>:18: FutureWarning: \n",
            "\n",
            "Passing `palette` without assigning `hue` is deprecated and will be removed in v0.14.0. Assign the `x` variable to `hue` and set `legend=False` for the same effect.\n",
            "\n",
            "  sns.barplot(x=list(results.keys()), y=list(results.values()), palette=\"Blues_d\")\n"
          ]
        },
        {
          "output_type": "display_data",
          "data": {
            "text/plain": [
              "<Figure size 1000x600 with 1 Axes>"
            ],
            "image/png": "[encoded data removed]"
          },
          "metadata": {}
        }
      ]
    },
    {
      "cell_type": "markdown",
      "source": [
        "## ✅ Summary & Reflection\n",
        "\n",
        "This project helped me implement predictive modeling in a simple game setting.\n",
        "The use of a 6-length Markov Chain allowed my bot to outperform pattern-based bots consistently.\n",
        "\n",
        "📌 **Key Learnings:**\n",
        "- Markov Chains for sequence prediction\n",
        "- Evaluating strategies with simulation\n",
        "- Using matplotlib & seaborn for visualization\n",
        "\n",
        "---\n",
        "🎓 Built for the **freeCodeCamp Machine Learning with Python Certification**\n"
      ],
      "metadata": {
        "id": "uyAZh5t0W7oD"
      }
    },
    {
      "cell_type": "code",
      "source": [
        "import numpy as np\n",
        "import pandas as pd\n",
        "import matplotlib.pyplot as plt\n",
        "import seaborn as sns\n",
        "from scipy import stats\n",
        "import ipywidgets as widgets\n",
        "from IPython.display import display, Markdown\n"
      ],
      "metadata": {
        "id": "P1tr8FS0Vp_M"
      },
      "execution_count": 18,
      "outputs": []
    },
    {
      "cell_type": "code",
      "source": [
        "def play_game_detailed(player1, player2, rounds=1000):\n",
        "    p1_hist, p2_hist = \"\", \"\"\n",
        "    results = {\"p1\": 0, \"p2\": 0, \"tie\": 0}\n",
        "    history = []\n",
        "\n",
        "    for i in range(rounds):\n",
        "        p1 = player1(p2_hist)\n",
        "        p2 = player2(p1_hist)\n",
        "        winner = 0  # tie\n",
        "\n",
        "        if p1 == p2:\n",
        "            results[\"tie\"] += 1\n",
        "            winner = 0\n",
        "        elif (p1 == \"P\" and p2 == \"R\") or (p1 == \"R\" and p2 == \"S\") or (p1 == \"S\" and p2 == \"P\"):\n",
        "            results[\"p1\"] += 1\n",
        "            winner = 1\n",
        "        else:\n",
        "            results[\"p2\"] += 1\n",
        "            winner = 2\n",
        "\n",
        "        p1_hist, p2_hist = p1, p2\n",
        "        history.append({'round': i+1, 'p1_move': p1, 'p2_move': p2, 'winner': winner})\n",
        "\n",
        "    win_rate = 100 * results[\"p1\"] / (results[\"p1\"] + results[\"p2\"]) if (results[\"p1\"] + results[\"p2\"]) else 0\n",
        "    df = pd.DataFrame(history)\n",
        "    return win_rate, results, df\n"
      ],
      "metadata": {
        "id": "KRpCR3UmXC1R"
      },
      "execution_count": 19,
      "outputs": []
    },
    {
      "cell_type": "code",
      "source": [
        "def simulate_many(player1, player2, rounds=1000, sims=30):\n",
        "    win_rates = []\n",
        "    for _ in range(sims):\n",
        "        wr, _, _ = play_game_detailed(player1, player2, rounds)\n",
        "        win_rates.append(wr)\n",
        "    win_rates = np.array(win_rates)\n",
        "\n",
        "    mean_wr = win_rates.mean()\n",
        "    ci = stats.t.interval(0.95, len(win_rates)-1, loc=mean_wr, scale=stats.sem(win_rates))\n",
        "    return mean_wr, ci, win_rates\n",
        "\n",
        "mean_wr, ci, win_rates = simulate_many(player, quincy)\n",
        "\n",
        "print(f\"Mean Win Rate: {mean_wr:.2f}%\")\n",
        "print(f\"95% Confidence Interval: [{ci[0]:.2f}%, {ci[1]:.2f}%]\")\n",
        "\n",
        "# Plot histogram\n",
        "sns.histplot(win_rates, kde=True, color=\"skyblue\")\n",
        "plt.axvline(mean_wr, color='red', linestyle='--')\n",
        "plt.title(\"Distribution of Win Rates Across 30 Simulations (vs Quincy)\")\n",
        "plt.xlabel(\"Win Rate (%)\")\n",
        "plt.ylabel(\"Frequency\")\n",
        "plt.show()\n"
      ],
      "metadata": {
        "colab": {
          "base_uri": "https://localhost:8080/",
          "height": 517
        },
        "id": "jDga3f4YXFXd",
        "outputId": "69aa94c4-e0d4-4234-b632-33648819fda5"
      },
      "execution_count": 20,
      "outputs": [
        {
          "output_type": "stream",
          "name": "stdout",
          "text": [
            "Mean Win Rate: 99.99%\n",
            "95% Confidence Interval: [99.97%, 100.01%]\n"
          ]
        },
        {
          "output_type": "display_data",
          "data": {
            "text/plain": [
              "<Figure size 640x480 with 1 Axes>"
            ],
            "image/png": "[encoded data removed]"
          },
          "metadata": {}
        }
      ]
    },
    {
      "cell_type": "code",
      "source": [
        "def plot_move_frequencies(df, player_col='p2_move', title='Move Frequencies'):\n",
        "    freq = df[player_col].value_counts(normalize=True).sort_index()\n",
        "    freq_df = pd.DataFrame({'Move': freq.index, 'Frequency': freq.values})\n",
        "    sns.barplot(x='Move', y='Frequency', data=freq_df, palette=\"muted\")\n",
        "    plt.title(title)\n",
        "    plt.ylim(0, 1)\n",
        "    plt.show()\n",
        "\n",
        "_, _, df = play_game_detailed(player, abbey)\n",
        "plot_move_frequencies(df, player_col='p2_move', title=\"Abbey's Move Frequency Distribution\")\n"
      ],
      "metadata": {
        "colab": {
          "base_uri": "https://localhost:8080/",
          "height": 572
        },
        "id": "H4GguahVXJLS",
        "outputId": "4346d143-6623-41c6-c1ed-50b7f60acb77"
      },
      "execution_count": 21,
      "outputs": [
        {
          "output_type": "stream",
          "name": "stderr",
          "text": [
            "<ipython-input-21-0a26b7031cb7>:4: FutureWarning: \n",
            "\n",
            "Passing `palette` without assigning `hue` is deprecated and will be removed in v0.14.0. Assign the `x` variable to `hue` and set `legend=False` for the same effect.\n",
            "\n",
            "  sns.barplot(x='Move', y='Frequency', data=freq_df, palette=\"muted\")\n"
          ]
        },
        {
          "output_type": "display_data",
          "data": {
            "text/plain": [
              "<Figure size 640x480 with 1 Axes>"
            ],
            "image/png": "[encoded data removed]"
          },
          "metadata": {}
        }
      ]
    },
    {
      "cell_type": "code",
      "source": [
        "def plot_streaks(df):\n",
        "    df['win'] = df['winner'] == 1\n",
        "    df['streak'] = (df['win'] != df['win'].shift()).cumsum()\n",
        "    streak_lengths = df.groupby(['streak', 'win']).size().reset_index(name='length')\n",
        "\n",
        "    plt.figure(figsize=(10,6))\n",
        "    sns.histplot(streak_lengths[streak_lengths['win']==True]['length'], bins=15, color='green', label='Win Streaks')\n",
        "    sns.histplot(streak_lengths[streak_lengths['win']==False]['length'], bins=15, color='red', label='Loss Streaks', alpha=0.7)\n",
        "    plt.title(\"Distribution of Win/Loss Streak Lengths\")\n",
        "    plt.xlabel(\"Streak Length\")\n",
        "    plt.legend()\n",
        "    plt.show()\n",
        "\n",
        "plot_streaks(df)\n"
      ],
      "metadata": {
        "colab": {
          "base_uri": "https://localhost:8080/",
          "height": 573
        },
        "id": "55kkFvFkXNsG",
        "outputId": "15e71531-15e8-46fa-f236-6fc95cb11b97"
      },
      "execution_count": 22,
      "outputs": [
        {
          "output_type": "display_data",
          "data": {
            "text/plain": [
              "<Figure size 1000x600 with 1 Axes>"
            ],
            "image/png": "[encoded data removed]"
          },
          "metadata": {}
        }
      ]
    },
    {
      "cell_type": "code",
      "source": [
        "import ipywidgets as widgets\n",
        "from IPython.display import display, Markdown\n",
        "import seaborn as sns\n",
        "import matplotlib.pyplot as plt\n",
        "\n",
        "# --- Assuming bot_dict and interactive_match are already defined ---\n",
        "\n",
        "# Dropdowns and sliders\n",
        "bot1_selector = widgets.Dropdown(options=bot_dict.keys(), value='My Bot', description='Bot 1:')\n",
        "bot2_selector = widgets.Dropdown(options=bot_dict.keys(), value='Quincy', description='Bot 2:')\n",
        "rounds_slider = widgets.IntSlider(value=1000, min=100, max=5000, step=100, description='Rounds:')\n",
        "sims_slider = widgets.IntSlider(value=20, min=5, max=50, step=5, description='Simulations:')\n",
        "\n",
        "# Output area\n",
        "output = widgets.Output()\n",
        "\n",
        "# Button to run simulation\n",
        "run_button = widgets.Button(description=\"Run Simulation\", button_style='success')\n",
        "\n",
        "# Button callback\n",
        "def on_run_button_clicked(b):\n",
        "    with output:\n",
        "        output.clear_output()\n",
        "        interactive_match(\n",
        "            bot1_name=bot1_selector.value,\n",
        "            bot2_name=bot2_selector.value,\n",
        "            rounds=rounds_slider.value,\n",
        "            sims=sims_slider.value\n",
        "        )\n",
        "\n",
        "run_button.on_click(on_run_button_clicked)\n",
        "\n",
        "# Layout\n",
        "ui = widgets.VBox([\n",
        "    bot1_selector,\n",
        "    bot2_selector,\n",
        "    rounds_slider,\n",
        "    sims_slider,\n",
        "    run_button,\n",
        "    output\n",
        "])\n",
        "\n",
        "display(ui)\n"
      ],
      "metadata": {
        "colab": {
          "base_uri": "https://localhost:8080/",
          "height": 729,
          "referenced_widgets": [
            "489b2d9f29f947828db2cf86e7589fc0",
            "3c089e03c089414a9118ef3cb428a719",
            "25ccf44cbf504be89aef61285ddd9388",
            "0dc1acbc9cf34de9893ab2c85b01e010",
            "de60008e1d154d8f9691a10d159da759",
            "711a20ee20794b50bd724d6ab029cd5f",
            "1b16b1cfd9144148b3ae961d2fec774b",
            "9ce1dbb0e2e7449687fdda34867c7627",
            "e7d9431e2f1a4a99b2f4798c549ceaca",
            "fe0ffe441f0348868237d531c24a5f57",
            "3f778c251d824ab4a4bc7280864446a8",
            "86f56c0ddfed4dda9b8dffcc6fa6224d",
            "98a8e656aecf447ca5bf76423719906e",
            "4f74dc5bf95d469ca0770d1833ff2309",
            "7bb962abeeb04b808cbe37fa2acc53b0",
            "87714c01c06a4a36b907c68f816bf4bc",
            "1c19ba771728411f8b86d15fccf96dae",
            "77547ee3e0584f6fb16a7fcd7b32555c",
            "d4860cc1c25043f2b151da1d8549b67b"
          ]
        },
        "id": "5UzKfspkXoje",
        "outputId": "f905fe21-2934-47b9-bdfe-204ee6ac12d5"
      },
      "execution_count": 24,
      "outputs": [
        {
          "output_type": "display_data",
          "data": {
            "text/plain": [
              "VBox(children=(Dropdown(description='Bot 1:', index=5, options=('Quincy', 'Mrugesh', 'Kris', 'Abbey', 'Random'…"
            ],
            "application/vnd.jupyter.widget-view+json": {
              "version_major": 2,
              "version_minor": 0,
              "model_id": "489b2d9f29f947828db2cf86e7589fc0"
            }
          },
          "metadata": {}
        }
      ]
    },
    {
      "cell_type": "code",
      "source": [],
      "metadata": {
        "id": "G74wr5lqXsKM"
      },
      "execution_count": 23,
      "outputs": []
    },
    {
      "cell_type": "markdown",
      "source": [
        "# ✅ Summary & Final Thoughts\n",
        "\n",
        "This project served as a fun and insightful application of predictive modeling in a simple yet non-trivial problem space. By designing a 6-length Markov Chain bot, I was able to analyze and exploit patterns in opponent behavior to achieve strong win rates against several predefined strategies.\n",
        "\n",
        "### 🔍 Key Takeaways:\n",
        "- **Markov Chains** are powerful tools for sequence prediction in games and beyond.\n",
        "- Simulation and visualization can uncover deeper behavioral patterns and inform better strategies.\n",
        "- Evaluation using confidence intervals and repeated trials is crucial for robust analysis.\n",
        "- A modular and interactive approach makes it easy to expand, test, and improve bots.\n",
        "\n",
        "🎮 This exercise not only reinforced core machine learning concepts, but also highlighted the value of adaptability, memory, and statistical reasoning in AI design.\n",
        "\n",
        "---\n",
        "\n",
        "🚀 **Next Steps:**\n",
        "- Experiment with reinforcement learning-based bots.\n",
        "- Build a dynamic strategy switcher that adapts in real time.\n",
        "- Deploy a web version of the RPS simulator for public play.\n",
        "\n",
        "Thanks for exploring with me!\n"
      ],
      "metadata": {
        "id": "_nyAkEQJUJ0a"
      }
    }
  ]
}